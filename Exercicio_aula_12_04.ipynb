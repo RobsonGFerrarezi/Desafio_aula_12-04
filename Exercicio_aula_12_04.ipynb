{
  "nbformat": 4,
  "nbformat_minor": 0,
  "metadata": {
    "colab": {
      "provenance": [],
      "authorship_tag": "ABX9TyO/52HoPbAle0xG7VMgQw7H",
      "include_colab_link": true
    },
    "kernelspec": {
      "name": "python3",
      "display_name": "Python 3"
    },
    "language_info": {
      "name": "python"
    }
  },
  "cells": [
    {
      "cell_type": "markdown",
      "metadata": {
        "id": "view-in-github",
        "colab_type": "text"
      },
      "source": [
        "<a href=\"https://colab.research.google.com/github/RobsonGFerrarezi/Desafio_aula_12-04/blob/main/Exercicio_aula_12_04.ipynb\" target=\"_parent\"><img src=\"https://colab.research.google.com/assets/colab-badge.svg\" alt=\"Open In Colab\"/></a>"
      ]
    },
    {
      "cell_type": "markdown",
      "source": [
        "<a rel=\"license\" href=\"https://faculdadesalvadorarena.org.br/\"><img alt=\"FESA\" style=\"border-width:0\" src=\"https://faculdadesalvadorarena.org.br/wp-content/uploads/2022/07/logo_fesa.png\" /></a><br />\n",
        "**FESA - Eletiva II (2025.1)** <br/>\n",
        "\n",
        "Aluno(a): Robson Guilherme Ferrarezi <br/>\n",
        "Data: 12/04/2025 <br/>"
      ],
      "metadata": {
        "id": "J7TSoh-tRxGG"
      }
    },
    {
      "cell_type": "markdown",
      "source": [
        "Importando biblioteca Pandas, para manipulação e análise de dados"
      ],
      "metadata": {
        "id": "kkHSUua-SJjf"
      }
    },
    {
      "cell_type": "code",
      "execution_count": 1,
      "metadata": {
        "id": "d7n1ZamtRt7N"
      },
      "outputs": [],
      "source": [
        "import pandas as pd"
      ]
    },
    {
      "cell_type": "markdown",
      "source": [
        "Puxando base de dados, e criando o DataFrame"
      ],
      "metadata": {
        "id": "ktcl6GqLSRF0"
      }
    },
    {
      "cell_type": "code",
      "source": [
        "!wget --no-check-certificate --content-disposition 'https://raw.githubusercontent.com/RobsonGFerrarezi/Desafio_aula_12-04/refs/heads/main/2004-2021.tsv'"
      ],
      "metadata": {
        "colab": {
          "base_uri": "https://localhost:8080/"
        },
        "id": "tWtkWEQYR04n",
        "outputId": "c899f460-39d3-487e-fd4e-e1084d5c0d90"
      },
      "execution_count": 2,
      "outputs": [
        {
          "output_type": "stream",
          "name": "stdout",
          "text": [
            "--2025-04-12 13:55:12--  https://raw.githubusercontent.com/RobsonGFerrarezi/Desafio_aula_12-04/refs/heads/main/2004-2021.tsv\n",
            "Resolving raw.githubusercontent.com (raw.githubusercontent.com)... 185.199.109.133, 185.199.108.133, 185.199.111.133, ...\n",
            "Connecting to raw.githubusercontent.com (raw.githubusercontent.com)|185.199.109.133|:443... connected.\n",
            "HTTP request sent, awaiting response... 200 OK\n",
            "Length: 15640047 (15M) [text/plain]\n",
            "Saving to: ‘2004-2021.tsv’\n",
            "\n",
            "2004-2021.tsv       100%[===================>]  14.92M  --.-KB/s    in 0.1s    \n",
            "\n",
            "2025-04-12 13:55:12 (123 MB/s) - ‘2004-2021.tsv’ saved [15640047/15640047]\n",
            "\n"
          ]
        }
      ]
    },
    {
      "cell_type": "code",
      "source": [
        "df = pd.read_csv('2004-2021.tsv')"
      ],
      "metadata": {
        "id": "ty1ziXy4SFXO"
      },
      "execution_count": 3,
      "outputs": []
    },
    {
      "cell_type": "markdown",
      "source": [
        "## b. Estados presentes\n",
        "Quais são os nomes dos estados presentes no DataFrame?  "
      ],
      "metadata": {
        "id": "Qz6N_HxBSgom"
      }
    },
    {
      "cell_type": "code",
      "source": [],
      "metadata": {
        "id": "poqppuaWSqTm"
      },
      "execution_count": null,
      "outputs": []
    }
  ]
}